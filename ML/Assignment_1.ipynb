{
 "cells": [
  {
   "cell_type": "markdown",
   "metadata": {},
   "source": [
    "# Assignment 1: NumPy Exercises"
   ]
  },
  {
   "cell_type": "markdown",
   "metadata": {},
   "source": [
    "## Q1: Basic NumPy Array"
   ]
  },
  {
   "cell_type": "markdown",
   "metadata": {},
   "source": [
    "### (a) Reverse the NumPy array: "
   ]
  },
  {
   "cell_type": "code",
   "execution_count": null,
   "metadata": {},
   "outputs": [],
   "source": [
    "import numpy as np\n",
    "\n",
    "arr = np.array([1, 2, 3, 6, 4, 5])\n",
    "reversed_arr = arr[::-1]\n",
    "reversed_arr"
   ]
  },
  {
   "cell_type": "markdown",
   "metadata": {},
   "source": [
    "### (b) Flatten the NumPy array using two methods: "
   ]
  },
  {
   "cell_type": "code",
   "execution_count": null,
   "metadata": {},
   "outputs": [],
   "source": [
    "array1 = np.array([[1, 2, 3], [2, 4, 5], [1, 2, 3]])\n",
    "\n",
    "# Method 1: Using flatten()\n",
    "flattened_array1 = array1.flatten()\n",
    "flattened_array1"
   ]
  },
  {
   "cell_type": "code",
   "execution_count": null,
   "metadata": {},
   "outputs": [],
   "source": [
    "# Method 2: Using ravel()\n",
    "flattened_array2 = array1.ravel()\n",
    "flattened_array2"
   ]
  },
  {
   "cell_type": "markdown",
   "metadata": {},
   "source": [
    "### (c) Compare the following numpy arrays: "
   ]
  },
  {
   "cell_type": "code",
   "execution_count": null,
   "metadata": {},
   "outputs": [],
   "source": [
    "arr1 = np.array([[1, 2], [3, 4]])\n",
    "arr2 = np.array([[1, 2], [3, 4]])\n",
    "\n",
    "comparison = np.array_equal(arr1, arr2)\n",
    "comparison"
   ]
  },
  {
   "cell_type": "markdown",
   "metadata": {},
   "source": [
    "### (d) Find the most frequent value and their indice(s):"
   ]
  },
  {
   "cell_type": "code",
   "execution_count": null,
   "metadata": {},
   "outputs": [],
   "source": [
    "x = np.array([1, 2, 3, 4, 5, 1, 2, 1, 1, 1])\n",
    "y = np.array([1, 1, 1, 2, 3, 4, 2, 4, 3, 3])\n",
    "\n",
    "most_freq_x = np.bincount(x).argmax()\n",
    "indices_x = np.where(x == most_freq_x)\n",
    "most_freq_y = np.bincount(y).argmax()\n",
    "indices_y = np.where(y == most_freq_y)\n",
    "\n",
    "most_freq_x, indices_x, most_freq_y, indices_y"
   ]
  },
  {
   "cell_type": "markdown",
   "metadata": {},
   "source": [
    "### (e) Sum of all elements, row-wise and column-wise for matrix gfg:"
   ]
  },
  {
   "cell_type": "code",
   "execution_count": null,
   "metadata": {},
   "outputs": [],
   "source": [
    "gfg = np.matrix('[4, 1, 9; 12, 3, 1; 4, 5, 6]')\n",
    "sum_all = np.sum(gfg)\n",
    "sum_row_wise = np.sum(gfg, axis=1)\n",
    "sum_column_wise = np.sum(gfg, axis=0)\n",
    "\n",
    "sum_all, sum_row_wise, sum_column_wise"
   ]
  },
  {
   "cell_type": "markdown",
   "metadata": {},
   "source": [
    "### (f) Various operations on the matrix n_array:"
   ]
  },
  {
   "cell_type": "code",
   "execution_count": null,
   "metadata": {},
   "outputs": [],
   "source": [
    "n_array = np.array([[55, 25, 15], [30, 44, 2], [11, 45, 77]])\n",
    "\n",
    "# Sum of diagonal elements\n",
    "sum_diag = np.trace(n_array)\n",
    "\n",
    "# Eigen values and vectors\n",
    "eigen_values, eigen_vectors = np.linalg.eig(n_array)\n",
    "\n",
    "# Inverse of matrix\n",
    "inverse_matrix = np.linalg.inv(n_array)\n",
    "\n",
    "# Determinant of matrix\n",
    "determinant = np.linalg.det(n_array)\n",
    "\n",
    "sum_diag, eigen_values, eigen_vectors, inverse_matrix, determinant"
   ]
  },
  {
   "cell_type": "markdown",
   "metadata": {},
   "source": [
    "### (g) Multiply matrices and find covariance:"
   ]
  },
  {
   "cell_type": "code",
   "execution_count": null,
   "metadata": {},
   "outputs": [],
   "source": [
    "p1 = np.array([[1, 2], [2, 3]])\n",
    "q1 = np.array([[4, 5], [6, 7]])\n",
    "\n",
    "p2 = np.array([[1, 2], [2, 3], [4, 5]])\n",
    "q2 = np.array([[4, 5, 1], [6, 7, 2]])\n",
    "\n",
    "# Matrix multiplication\n",
    "mult1 = np.dot(p1, q1)\n",
    "mult2 = np.dot(p2, q2)\n",
    "\n",
    "# Covariance\n",
    "cov1 = np.cov(p1, q1, rowvar=False)\n",
    "cov2 = np.cov(p2, q2, rowvar=False)\n",
    "\n",
    "mult1, mult2, cov1, cov2"
   ]
  },
  {
   "cell_type": "markdown",
   "metadata": {},
   "source": [
    "### (h) Find inner, outer, and cartesian product of matrices:"
   ]
  },
  {
   "cell_type": "code",
   "execution_count": null,
   "metadata": {},
   "outputs": [],
   "source": [
    "x = np.array([[2, 3, 4], [3, 2, 9]])\n",
    "y = np.array([[1, 5, 0], [5, 10, 3]])\n",
    "\n",
    "# Inner product\n",
    "inner_product = np.inner(x, y)\n",
    "\n",
    "# Outer product\n",
    "outer_product = np.outer(x, y)\n",
    "\n",
    "# Cartesian product\n",
    "cartesian_product = np.transpose([np.tile(x, len(y)), np.repeat(y, len(x))])\n",
    "\n",
    "inner_product, outer_product, cartesian_product"
   ]
  },
  {
   "cell_type": "markdown",
   "metadata": {},
   "source": [
    "## Q2: NumPy Mathematics and Statistics"
   ]
  },
  {
   "cell_type": "markdown",
   "metadata": {},
   "source": [
    "### (a) Array operations: element-wise absolute value, percentiles, mean, median, and standard deviation"
   ]
  },
  {
   "cell_type": "code",
   "execution_count": null,
   "metadata": {},
   "outputs": [],
   "source": [
    "array = np.array([[1, -2, 3], [-4, 5, -6]])\n",
    "\n",
    "# Element-wise absolute value\n",
    "abs_array = np.abs(array)\n",
    "\n",
    "# Percentiles\n",
    "percentiles_flattened = np.percentile(array, [25, 50, 75])\n",
    "percentiles_columns = np.percentile(array, [25, 50, 75], axis=0)\n",
    "percentiles_rows = np.percentile(array, [25, 50, 75], axis=1)\n",
    "\n",
    "# Mean, Median, and Standard Deviation\n",
    "mean_flattened = np.mean(array)\n",
    "median_flattened = np.median(array)\n",
    "std_flattened = np.std(array)\n",
    "mean_columns = np.mean(array, axis=0)\n",
    "median_columns = np.median(array, axis=0)\n",
    "std_columns = np.std(array, axis=0)\n",
    "mean_rows = np.mean(array, axis=1)\n",
    "median_rows = np.median(array, axis=1)\n",
    "std_rows = np.std(array, axis=1)\n",
    "\n",
    "abs_array, percentiles_flattened, percentiles_columns, percentiles_rows,\n",
    "mean_flattened, median_flattened, std_flattened,\n",
    "mean_columns, median_columns, std_columns,\n",
    "mean_rows, median_rows, std_rows"
   ]
  },
  {
   "cell_type": "markdown",
   "metadata": {},
   "source": [
    "### (b) Array operations: floor, ceiling, truncated, and rounded values"
   ]
  },
  {
   "cell_type": "code",
   "execution_count": null,
   "metadata": {},
   "outputs": [],
   "source": [
    "a = np.array([-1.8, -1.6, -0.5, 0.5, 1.6, 1.8, 3.0])\n",
    "\n",
    "# Floor, ceiling, truncated, and rounded values\n",
    "floor_values = np.floor(a)\n",
    "ceil_values = np.ceil(a)\n",
    "truncated_values = np.trunc(a)\n",
    "rounded_values = np.round(a)\n",
    "\n",
    "floor_values, ceil_values, truncated_values, rounded_values"
   ]
  },
  {
   "cell_type": "markdown",
   "metadata": {},
   "source": [
    "## Q3: Searching and Sorting"
   ]
  },
  {
   "cell_type": "markdown",
   "metadata": {},
   "source": [
    "### (a) Array operations: sorting, indices of sorted array, smallest and largest elements"
   ]
  },
  {
   "cell_type": "code",
   "execution_count": null,
   "metadata": {},
   "outputs": [],
   "source": [
    "array = np.array([10, 52, 62, 16, 16, 54, 453])\n",
    "\n",
    "# Sorted array\n",
    "sorted_array = np.sort(array)\n",
    "\n",
    "# Indices of sorted array\n",
    "indices_sorted = np.argsort(array)\n",
    "\n",
    "# 4 smallest elements\n",
    "smallest_elements = np.sort(array)[:4]\n",
    "\n",
    "# 5 largest elements\n",
    "largest_elements = np.sort(array)[-5:]\n",
    "\n",
    "sorted_array, indices_sorted, smallest_elements, largest_elements"
   ]
  },
  {
   "cell_type": "markdown",
   "metadata": {},
   "source": [
    "### (b) Finding integer and float elements"
   ]
  },
  {
   "cell_type": "code",
   "execution_count": null,
   "metadata": {},
   "outputs": [],
   "source": [
    "array = np.array([1.0, 1.2, 2.2, 2.0, 3.0, 2.0])\n",
    "\n",
    "# Integer elements\n",
    "integer_elements = array[array == array.astype(int)]\n",
    "\n",
    "# Float elements\n",
    "float_elements = array[array != array.astype(int)]\n",
    "\n",
    "integer_elements, float_elements"
   ]
  },
  {
   "cell_type": "markdown",
   "metadata": {},
   "source": [
    "## Q4: Image to Array and Load in Jupyter Notebook"
   ]
  },
  {
   "cell_type": "markdown",
   "metadata": {},
   "source": [
    "### (a) Function to read an image and save as text file"
   ]
  },
  {
   "cell_type": "code",
   "execution_count": null,
   "metadata": {},
   "outputs": [],
   "source": [
    "import cv2\n",
    "import numpy as np\n",
    "\n",
    "def img_to_array(path):\n",
    "    image = cv2.imread(path)\n",
    "    if image is None:\n",
    "        print(\"Image not found!\")\n",
    "        return\n",
    "    \n",
    "    gray = cv2.cvtColor(image, cv2.COLOR_BGR2GRAY)\n",
    "    np.savetxt('image_gray.txt', gray, fmt='%d')\n",
    "    print(\"Image saved as text.\")\n",
    "    \n",
    "img_to_array('path_to_image.jpg')"
   ]
  },
  {
   "cell_type": "markdown",
   "metadata": {},
   "source": [
    "### (b) Loading the saved file in Jupyter Notebook"
   ]
  },
  {
   "cell_type": "code",
   "execution_count": null,
   "metadata": {},
   "outputs": [],
   "source": [
    "loaded_array = np.loadtxt('image_gray.txt', dtype=int)\n",
    "loaded_array"
   ]
  }
 ],
 "metadata": {
  "kernelspec": {
   "display_name": "Python 3",
   "language": "python",
   "name": "python3"
  },
  "language_info": {
   "codemirror_mode": {
    "name": "ipython",
    "version": 3
   },
   "file_extension": ".py",
   "mimetype": "text/x-python",
   "name": "python",
   "nbconvert_exporter": "python",
   "pygments_lexer": "ipython3",
   "version": "3.8.8"
  }
 },
 "nbformat": 4,
 "nbformat_minor": 4
}
